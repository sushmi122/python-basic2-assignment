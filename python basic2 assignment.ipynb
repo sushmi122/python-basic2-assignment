{
 "cells": [
  {
   "cell_type": "markdown",
   "id": "3119db71-6f40-46f7-a920-b69c7425f2ae",
   "metadata": {},
   "source": [
    "                                                        PYTHON BASIC 2 ASSIGNMENT"
   ]
  },
  {
   "cell_type": "code",
   "execution_count": 2,
   "id": "e23c3a39-c62e-4f04-9a2d-2bd1d8c9899f",
   "metadata": {},
   "outputs": [
    {
     "name": "stdout",
     "output_type": "stream",
     "text": [
      "30\n",
      "10\n",
      "2.0\n",
      "200\n"
     ]
    }
   ],
   "source": [
    "\n",
    "# 1ST QUESTION\n",
    "A = 20\n",
    "B=10\n",
    "print(A+B)\n",
    "print( A-B)\n",
    "print(A/B)\n",
    "print(A*B)\n",
    "\n"
   ]
  },
  {
   "cell_type": "code",
   "execution_count": 8,
   "id": "bbc259ce-da45-4151-a3a6-280d95311bf8",
   "metadata": {},
   "outputs": [
    {
     "name": "stdout",
     "output_type": "stream",
     "text": [
      "4.75\n",
      "4\n"
     ]
    }
   ],
   "source": [
    "# 2ND QUESTION ANSWER\n",
    "# '/' is the division operator.It is used for normal division of two numbers\n",
    "# '//' is the floor division operator.It is used for the smallest integer nearest to the quotent obtained by dividing two  numbers\n",
    "# for example\n",
    "\n",
    "x = 19\n",
    "y = 4\n",
    "print(x/y)\n",
    "print(x//y)"
   ]
  },
  {
   "cell_type": "code",
   "execution_count": 1,
   "id": "968e15e4-69ef-43ca-87b0-6bf04e705dd7",
   "metadata": {},
   "outputs": [
    {
     "name": "stdout",
     "output_type": "stream",
     "text": [
      "4\n",
      "0\n"
     ]
    }
   ],
   "source": [
    "#2nd question (b)\n",
    "\n",
    "#For numeric data types, double-asterisk (**) is defined as an Exponentiation Operator\n",
    "#XOR is a bitwise operator that is also known as Exclusive OR.\n",
    "\n",
    "x=2\n",
    "y=2\n",
    "print(x**y)\n",
    "print(x^2)"
   ]
  },
  {
   "cell_type": "code",
   "execution_count": 9,
   "id": "90571071-fbab-4f31-8a61-7017e1d82c7d",
   "metadata": {},
   "outputs": [
    {
     "name": "stdout",
     "output_type": "stream",
     "text": [
      "True\n",
      "True\n",
      "False\n"
     ]
    }
   ],
   "source": [
    "# 3. LIST OF LOGICAL OPERATORS\n",
    "# and operator\t\n",
    " #Returns True if both statements are true\n",
    "# or operator\t\n",
    "#Returns True if one of the statements is true\n",
    "# not\tReverse the result, returns False if the result is true\n",
    "x = 2\n",
    "y = 3\n",
    "print(x<5 and y<5)       #and operator\tReturns True if both statements are true\n",
    "print(x<5 or y<3)        #or operator\tReturns True if one of the statements is true\n",
    "print(not(x<5 and y<5))  #not\tReverse the result, returns False if the result is true"
   ]
  },
  {
   "cell_type": "code",
   "execution_count": 5,
   "id": "ab858e39-641a-48be-8f33-5ec07ad70a88",
   "metadata": {},
   "outputs": [
    {
     "name": "stdout",
     "output_type": "stream",
     "text": [
      "40\n",
      "2\n"
     ]
    }
   ],
   "source": [
    "#4.Explain right shift operator and left shift operator with examples.\n",
    "\n",
    "\n",
    "#left shift operator can move no.of bits on left side\n",
    "#right shift operator can move no.ob bits on right side\n",
    "\n",
    "a=10\n",
    "print(a<<2)\n",
    "\n",
    "#right shift operator\n",
    "a=10\n",
    "print(a>>2)"
   ]
  },
  {
   "cell_type": "code",
   "execution_count": 2,
   "id": "c1592781-9066-46b9-949e-8d6e915ae4f9",
   "metadata": {},
   "outputs": [
    {
     "name": "stdout",
     "output_type": "stream",
     "text": [
      "exist\n"
     ]
    }
   ],
   "source": [
    "#5TH QUESTION ANSWER\n",
    "N1 = [1,2,3,4,5,6,7,10,11,8,9,12,13,14,15]\n",
    "i = 10\n",
    "if i in N1:\n",
    "    print(\"exist\")\n",
    "else:\n",
    "    print(\"not exist\")\n",
    "    "
   ]
  },
  {
   "cell_type": "code",
   "execution_count": null,
   "id": "2e6ac8ce-618e-4393-844c-4a56279b8f20",
   "metadata": {},
   "outputs": [],
   "source": []
  }
 ],
 "metadata": {
  "kernelspec": {
   "display_name": "Python 3 (ipykernel)",
   "language": "python",
   "name": "python3"
  },
  "language_info": {
   "codemirror_mode": {
    "name": "ipython",
    "version": 3
   },
   "file_extension": ".py",
   "mimetype": "text/x-python",
   "name": "python",
   "nbconvert_exporter": "python",
   "pygments_lexer": "ipython3",
   "version": "3.10.6"
  }
 },
 "nbformat": 4,
 "nbformat_minor": 5
}
